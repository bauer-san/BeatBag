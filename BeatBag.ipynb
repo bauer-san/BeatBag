{
 "cells": [
  {
   "cell_type": "markdown",
   "metadata": {},
   "source": [
    "# BeatBag\n",
    "This is an entry in the SparkFun Crowdsourcing Algorithms Contest: https://www.sparkfun.com/news/2115"
   ]
  },
  {
   "cell_type": "code",
   "execution_count": 82,
   "metadata": {
    "collapsed": false
   },
   "outputs": [],
   "source": [
    "import numpy as np\n",
    "def lpf(alpha, x, y_old):\n",
    "    return (y_old + alpha * (x - y_old))\n",
    "\n",
    "def hpf(alpha, x, x_old, y_old):\n",
    "    return (alpha * (y_old + x - x_old))\n",
    "\n",
    "def vector_mag(x,y):\n",
    "    return (np.sqrt(x**2 + y**2))"
   ]
  },
  {
   "cell_type": "markdown",
   "metadata": {},
   "source": [
    "## Initialize variables"
   ]
  },
  {
   "cell_type": "code",
   "execution_count": 83,
   "metadata": {
    "collapsed": false
   },
   "outputs": [],
   "source": [
    "sampletime = 0.002\n",
    "timeconstant = 0.100\n",
    "alpha = (float)(sampletime / (sampletime+timeconstant))\n",
    "\n",
    "x_lpf=0.0\n",
    "y_lpf=0.0\n",
    "z_lpf=0.0\n",
    "\n",
    "x_lpf_old=0.0\n",
    "y_lpf_old=0.0\n",
    "z_lpf_old=0.0\n",
    "\n",
    "x_hpf=0.0\n",
    "y_hpf=0.0\n",
    "z_hpf=0.0\n",
    "\n",
    "x_hpf_old=0.0\n",
    "y_hpf_old=0.0\n",
    "z_hpf_old=0.0"
   ]
  },
  {
   "cell_type": "markdown",
   "metadata": {},
   "source": [
    "## Read the data"
   ]
  },
  {
   "cell_type": "code",
   "execution_count": 86,
   "metadata": {
    "collapsed": false
   },
   "outputs": [],
   "source": [
    "import csv\n",
    "\n",
    "data_path = '.\\\\data\\\\Recorded Tests\\\\'\n",
    "data_path +=  '3-77hits.TXT'\n",
    "#data_path +=  '4-81hits.TXT'\n",
    "#data_path +=  '5-93hits.TXT'\n",
    "#data_path +=  '6-79hits.TXT'\n",
    "#data_path +=  'MysteryDataSet-1.TXT'\n",
    "#data_path +=  'MysteryDataSet-2.TXT'"
   ]
  },
  {
   "cell_type": "markdown",
   "metadata": {},
   "source": [
    "## Read and process each line of the file"
   ]
  },
  {
   "cell_type": "code",
   "execution_count": 85,
   "metadata": {
    "collapsed": false
   },
   "outputs": [
    {
     "name": "stdout",
     "output_type": "stream",
     "text": [
      "4.885 0.621912667852 -0.453144647639\n",
      "8.583 0.19286518592 -0.351072385451\n",
      "8.893 0.208751179014 -0.213794834334\n",
      "9.728 0.210323811995 -0.223474121344\n",
      "9.814 0.278317344923 -0.226737888485\n",
      "10.13 0.323434949746 -0.303596782578\n",
      "10.446 0.316783603897 -0.250654188368\n",
      "11.639 0.216589500452 -0.225498959518\n",
      "11.671 0.194802766968 -0.587292915569\n",
      "11.976 0.316209664247 -0.561356438833\n",
      "12.264 0.298387667684 -0.459504879142\n",
      "12.902 0.280088882077 -0.289522051169\n",
      "13.487 0.285297233308 -0.243677747233\n",
      "13.514 0.212885940799 -0.220832902812\n",
      "13.806 0.321023488294 -0.276753210834\n",
      "13.888 0.223340599525 -0.226054281255\n",
      "14.117 0.446726993173 -0.25767716799\n",
      "14.119 0.263275903907 -0.246329167364\n",
      "14.498 0.200273751403 -0.204385560386\n",
      "14.608 0.206101863511 -0.29597566577\n",
      "15.087 0.319901319977 -0.257276873747\n",
      "15.623 0.191245366771 -0.215297728431\n",
      "17.112 0.466401139965 -0.591485488454\n",
      "17.397 0.3445595856 -0.239951743551\n",
      "18.043 0.389203645685 -0.35633063452\n",
      "18.548 0.663581264955 -0.583366142823\n",
      "18.828 0.205732867549 -0.589350965836\n",
      "19.097 0.291384978138 -0.318247981542\n",
      "19.121 0.57419095491 -0.542662619179\n",
      "19.197 0.418775472811 -0.208040992539\n",
      "20.342 0.401300060499 -0.377979172663\n",
      "20.555 0.251510816476 -0.24499386392\n",
      "20.558 0.244071130304 -0.212798301381\n",
      "20.816 0.297566816299 -0.401776053068\n",
      "20.837 0.657210967595 -0.322705174945\n",
      "21.12 0.334696566224 -0.227335251883\n",
      "21.421 0.601987980129 -0.202560473787\n",
      "21.791 0.259331859237 -0.311772150887\n",
      "21.995 0.399774550742 -0.360531792499\n",
      "22.87 0.421403325214 -0.239916619928\n",
      "23.236 0.190282437548 -0.241705104528\n",
      "24.03 0.235075382982 -0.300740719199\n",
      "24.06 0.297200843273 -0.591018055227\n",
      "24.343 0.627598758008 -0.475085598774\n",
      "24.418 0.914608547971 -0.406408649767\n",
      "24.595 0.223989038827 -0.315043950643\n",
      "24.614 0.386292819751 -0.242519272259\n",
      "24.617 0.483009613954 -0.342952643749\n",
      "25.421 0.23672320833 -0.593038450963\n",
      "26.095 0.36812039681 -0.59151552049\n",
      "26.378 0.481940911354 -0.217646116013\n",
      "26.696 0.358560052461 -0.425894150578\n",
      "27.288 0.303098286608 -0.314059343732\n",
      "27.936 0.365756363939 -0.329506399512\n",
      "28.709 0.198791304476 -0.29244692389\n",
      "28.719 0.198912023316 -0.263519951188\n",
      "28.989 0.216616693521 -0.501360668131\n",
      "29.537 0.218701148803 -0.2110130986\n",
      "29.82 0.357676620406 -0.530578560371\n",
      "29.822 0.260850382817 -0.277344821672\n",
      "29.829 0.223175166966 -0.200762812727\n",
      "29.898 0.342878002966 -0.27003615701\n",
      "30.376 0.288003913999 -0.301449942832\n",
      "30.449 0.219966810799 -0.21895481522\n",
      "31.197 0.204262285493 -0.330114550153\n",
      "31.222 0.766813428918 -0.316675571908\n",
      "66\n"
     ]
    }
   ],
   "source": [
    "hitcount = 0\n",
    "\n",
    "with open(data_path, 'rb') as csvfile:\n",
    "    reader = csv.reader(csvfile, delimiter=',')\n",
    "    for row in reader:\n",
    "        try:           \n",
    "            timestamp_ms, x, y, z = row\n",
    "        except ValueError:\n",
    "            pass\n",
    "\n",
    "        x=float(x)\n",
    "        y=float(y)\n",
    "        z=float(z)            \n",
    "\n",
    "        #Signal Processing\n",
    "        #for now, this is lowpass followed by high pass filters.\n",
    "        x_lpf = lpf(alpha, x, x_lpf)\n",
    "        x_hpf = hpf(alpha, x_lpf, x_lpf_old, x_hpf_old)\n",
    "        x_lpf_old = x_lpf\n",
    "        x_hpf_old = x_hpf\n",
    "        \n",
    "        y_lpf = lpf(alpha, y, y_lpf)\n",
    "        y_hpf = hpf(alpha, y_lpf, y_lpf_old, y_hpf_old)\n",
    "        y_lpf_old = y_lpf\n",
    "        y_hpf_old = y_hpf\n",
    "\n",
    "        z_lpf = lpf(alpha, z, z_lpf)\n",
    "        z_hpf = hpf(alpha, z_lpf, z_lpf_old, z_hpf_old)\n",
    "        z_lpf_old = z_lpf\n",
    "        z_hpf_old = z_hpf        \n",
    "        \n",
    "        #calculate a vector in plane of the bag platform\n",
    "        c = vector_mag(x_hpf, y_hpf)   \n",
    "        \n",
    "        #hit_count_logic\n",
    "        if (c > .19): #every punch imparts a force in the plane of the platform\n",
    "            if (z_hpf<-.2): #and toward the ground\n",
    "                hitcount+=1\n",
    "                print float(timestamp_ms)/1000, c, z_hpf\n",
    "\n",
    "print hitcount"
   ]
  },
  {
   "cell_type": "code",
   "execution_count": null,
   "metadata": {
    "collapsed": true
   },
   "outputs": [],
   "source": []
  }
 ],
 "metadata": {
  "kernelspec": {
   "display_name": "Python 2",
   "language": "python",
   "name": "python2"
  },
  "language_info": {
   "codemirror_mode": {
    "name": "ipython",
    "version": 2
   },
   "file_extension": ".py",
   "mimetype": "text/x-python",
   "name": "python",
   "nbconvert_exporter": "python",
   "pygments_lexer": "ipython2",
   "version": "2.7.2"
  }
 },
 "nbformat": 4,
 "nbformat_minor": 0
}
