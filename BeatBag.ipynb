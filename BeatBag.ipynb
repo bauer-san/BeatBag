{
 "cells": [
  {
   "cell_type": "markdown",
   "metadata": {},
   "source": [
    "# BeatBag\n",
    "This is an entry in the SparkFun Crowdsourcing Algorithms Contest: https://www.sparkfun.com/news/2115"
   ]
  },
  {
   "cell_type": "code",
   "execution_count": 154,
   "metadata": {
    "collapsed": true
   },
   "outputs": [],
   "source": [
    "import numpy as np\n",
    "import csv\n",
    "import math\n",
    "\n",
    "import matplotlib.pyplot as plt\n",
    "%matplotlib inline  "
   ]
  },
  {
   "cell_type": "code",
   "execution_count": 159,
   "metadata": {
    "collapsed": false
   },
   "outputs": [],
   "source": [
    "def lpf(alpha, x, y_old):\n",
    "    return (y_old + alpha * (x - y_old))\n",
    "\n",
    "def hpf(alpha, x, x_old, y_old):\n",
    "    return (alpha * (y_old + x - x_old))\n",
    "\n",
    "def vector_mag(x,y):\n",
    "    return (np.sqrt(x**2 + y**2))\n",
    "\n",
    "def goertzel(samples, sample_rate, *freqs):\n",
    "    \"\"\"\n",
    "    Lifted from this guy: https://gist.github.com/sebpiq/4128537\n",
    "    \n",
    "    Implementation of the Goertzel algorithm, useful for calculating individual\n",
    "    terms of a discrete Fourier transform.\n",
    "    `samples` is a windowed one-dimensional signal originally sampled at `sample_rate`.\n",
    "    The function returns 2 arrays, one containing the actual frequencies calculated,\n",
    "    the second the coefficients `(real part, imag part, power)` for each of those frequencies.\n",
    "    For simple spectral analysis, the power is usually enough.\n",
    "    Example of usage :\n",
    "        \n",
    "        freqs, results = goertzel(some_samples, 44100, (400, 500), (1000, 1100))\n",
    "    \"\"\"\n",
    "    window_size = len(samples)\n",
    "    f_step = sample_rate / float(window_size)\n",
    "    f_step_normalized = 1.0 / window_size\n",
    "\n",
    "    # Calculate all the DFT bins we have to compute to include frequencies\n",
    "    # in `freqs`.\n",
    "    bins = set()\n",
    "    for f_range in freqs:\n",
    "        f_start, f_end = f_range\n",
    "        k_start = int(math.floor(f_start / f_step))\n",
    "        k_end = int(math.ceil(f_end / f_step))\n",
    "\n",
    "        if k_end > window_size - 1: raise ValueError('frequency out of range %s' % k_end)\n",
    "        bins = bins.union(range(k_start, k_end))\n",
    "\n",
    "    # For all the bins, calculate the DFT term\n",
    "    n_range = range(0, window_size)\n",
    "    freqs = []\n",
    "    results = []\n",
    "    for k in bins:\n",
    "\n",
    "        # Bin frequency and coefficients for the computation\n",
    "        f = k * f_step_normalized\n",
    "        w_real = 2.0 * math.cos(2.0 * math.pi * f)\n",
    "        w_imag = math.sin(2.0 * math.pi * f)\n",
    "\n",
    "        # Doing the calculation on the whole sample\n",
    "        d1, d2 = 0.0, 0.0\n",
    "        for n in n_range:\n",
    "            y  = samples[n] + w_real * d1 - d2\n",
    "            d2, d1 = d1, y\n",
    "\n",
    "        # Storing results `(real part, imag part, power)`\n",
    "        results.append((\n",
    "            0.5 * w_real * d1 - d2, w_imag * d1,\n",
    "            d2**2 + d1**2 - w_real * d1 * d2)\n",
    "        )\n",
    "        freqs.append(f * sample_rate)\n",
    "    return freqs, results"
   ]
  },
  {
   "cell_type": "markdown",
   "metadata": {},
   "source": [
    "## Locate the data"
   ]
  },
  {
   "cell_type": "code",
   "execution_count": 156,
   "metadata": {
    "collapsed": false
   },
   "outputs": [],
   "source": [
    "data_path = '.\\\\data\\\\Recorded Tests\\\\'\n",
    "#data_path +=  '3-77hits.TXT'\n",
    "#data_path +=  '4-81hits.TXT'\n",
    "data_path +=  '5-93hits.TXT'\n",
    "#data_path +=  '6-79hits.TXT'\n",
    "#data_path +=  'MysteryDataSet-1.TXT'\n",
    "#data_path +=  'MysteryDataSet-2.TXT'"
   ]
  },
  {
   "cell_type": "markdown",
   "metadata": {},
   "source": [
    "## Initialize variables"
   ]
  },
  {
   "cell_type": "code",
   "execution_count": 157,
   "metadata": {
    "collapsed": false
   },
   "outputs": [],
   "source": [
    "sampletime = 0.002\n",
    "timeconstant_lpf = 0.4\n",
    "alpha_lpf = (float)(sampletime / (sampletime+timeconstant_lpf))\n",
    "\n",
    "timeconstant_hpf = 0.6\n",
    "alpha_hpf = (float)(sampletime / (sampletime+timeconstant_hpf))\n",
    "\n",
    "x_lpf=0.0\n",
    "y_lpf=0.0\n",
    "z_lpf=0.0\n",
    "\n",
    "x_lpf_old=0.0\n",
    "y_lpf_old=0.0\n",
    "z_lpf_old=0.0\n",
    "\n",
    "x_hpf=0.0\n",
    "y_hpf=0.0\n",
    "z_hpf=0.0\n",
    "\n",
    "x_hpf_old=0.0\n",
    "y_hpf_old=0.0\n",
    "z_hpf_old=0.0"
   ]
  },
  {
   "cell_type": "markdown",
   "metadata": {},
   "source": [
    "## Read and process each line of the file"
   ]
  },
  {
   "cell_type": "code",
   "execution_count": 193,
   "metadata": {
    "collapsed": false
   },
   "outputs": [
    {
     "name": "stdout",
     "output_type": "stream",
     "text": [
      "4.885 0.247326490941 -0.179023966272\n",
      "10.13 0.128720983431 -0.121975988361\n",
      "10.446 0.124485461764 -0.101965183863\n",
      "11.976 0.126521545238 -0.224469199261\n",
      "12.264 0.119516457397 -0.182327086284\n",
      "12.902 0.107046196618 -0.117620371061\n",
      "13.806 0.124329389515 -0.113982631369\n",
      "14.117 0.178714591111 -0.106200757342\n",
      "14.119 0.102056222036 -0.104844935261\n",
      "15.087 0.127683174304 -0.102745669523\n",
      "17.112 0.18569490711 -0.236013747657\n",
      "18.043 0.156098616614 -0.143088639479\n",
      "18.548 0.261483217433 -0.234589523438\n",
      "19.097 0.116381025979 -0.125879272283\n",
      "19.121 0.227285704693 -0.218191344165\n",
      "20.342 0.15929309536 -0.150570961665\n",
      "20.816 0.117274482632 -0.158363713163\n",
      "20.837 0.261868163188 -0.129448401975\n",
      "21.791 0.102561940493 -0.125441564794\n",
      "21.995 0.157633745499 -0.142443917063\n",
      "22.87 0.1680194264 -0.101075091302\n",
      "24.06 0.117416144026 -0.234501361639\n",
      "24.343 0.250020098627 -0.190928834709\n",
      "24.418 0.366010740609 -0.162213275332\n",
      "24.617 0.19517490629 -0.140692808529\n",
      "26.095 0.145078999406 -0.234025342647\n",
      "26.696 0.143544044497 -0.168833474662\n",
      "27.288 0.126063589845 -0.124863272961\n",
      "27.936 0.145681108349 -0.131016937423\n",
      "29.82 0.14344976181 -0.211119040905\n",
      "29.822 0.10147803901 -0.118226260231\n",
      "29.898 0.136866351838 -0.109516115004\n",
      "30.376 0.114368870895 -0.118971514572\n",
      "31.222 0.301522458651 -0.136380727763\n",
      "34\n"
     ]
    }
   ],
   "source": [
    "hitcount = 0\n",
    "#myvec=0\n",
    "\n",
    "with open(data_path, 'rb') as csvfile:\n",
    "    reader = csv.reader(csvfile, delimiter=',')\n",
    "    for row in reader:\n",
    "        try:           \n",
    "            timestamp_ms, x, y, z = row\n",
    "        except ValueError:\n",
    "            pass\n",
    "        \n",
    "        x=float(x)\n",
    "        y=float(y)\n",
    "        z=float(z)            \n",
    "\n",
    "        #Signal Processing\n",
    "        #for now, this is lowpass followed by high pass filters.\n",
    "        #later, time dependent filter vaules\n",
    "        x_lpf = lpf(alpha_lpf, x, x_lpf)\n",
    "        x_hpf = hpf(alpha_hpf, x_lpf, x_lpf_old, x_hpf_old)\n",
    "        x_lpf_old = x_lpf\n",
    "        x_hpf_old = x_hpf\n",
    "        \n",
    "        y_lpf = lpf(alpha_lpf, y, y_lpf)\n",
    "        y_hpf = hpf(alpha_hpf, y_lpf, y_lpf_old, y_hpf_old)\n",
    "        y_lpf_old = y_lpf\n",
    "        y_hpf_old = y_hpf\n",
    "\n",
    "        z_lpf = lpf(alpha_lpf, z, z_lpf)\n",
    "        z_hpf = hpf(alpha_hpf, z_lpf, z_lpf_old, z_hpf_old)\n",
    "        z_lpf_old = z_lpf\n",
    "        z_hpf_old = z_hpf        \n",
    "                \n",
    "        #calculate a vector in plane of the bag platform\n",
    "        c = vector_mag(x_hpf, y_hpf)   \n",
    "\n",
    "        myvec_z=np.append(myvec,float(max(z_hpf,0)))\n",
    "        myvec_c=np.append(myvec,float(c))        \n",
    "        \n",
    "#        plt.plot(float(timestamp_ms)/1000.0, z_hpf, 'ro')\n",
    "        \n",
    "        #hit_count_logic\n",
    "        if (c > .1): #every punch imparts a force in the plane of the platform\n",
    "            if (z_hpf<-.1): #and toward the ground\n",
    "                hitcount+=1\n",
    "                print float(timestamp_ms)/1000, c, z_hpf                \n",
    "                \n",
    "\n",
    "print hitcount\n",
    "\n",
    "plt.show()"
   ]
  },
  {
   "cell_type": "code",
   "execution_count": 194,
   "metadata": {
    "collapsed": false
   },
   "outputs": [
    {
     "data": {
      "image/png": "[encoded data removed]",
      "text/plain": [
       "<matplotlib.figure.Figure at 0xc022270>"
      ]
     },
     "metadata": {},
     "output_type": "display_data"
    }
   ],
   "source": [
    "plt.subplot(2,2,1)\n",
    "plt.title('z')\n",
    "plt.plot(myvec_z)\n",
    "\n",
    "plt.subplot(2,2,2)\n",
    "plt.title('z_hpf')\n",
    "freqs, results = goertzel(myvec_z, 1/0.002, (2, 3))\n",
    "plt.plot(freqs, np.array(results)[:,2], 'o')\n",
    "\n",
    "plt.subplot(2,2,3)\n",
    "plt.title('c')\n",
    "plt.plot(myvec_c)\n",
    "\n",
    "plt.subplot(2,2,4)\n",
    "plt.title('c')\n",
    "freqs, results = goertzel(myvec_c, 1/0.002, (2, 3))\n",
    "plt.plot(freqs, np.array(results)[:,2], 'o')\n",
    "\n",
    "plt.show()"
   ]
  },
  {
   "cell_type": "code",
   "execution_count": 191,
   "metadata": {
    "collapsed": false
   },
   "outputs": [
    {
     "name": "stdout",
     "output_type": "stream",
     "text": [
      "[1.9995556542990447, 2.0273272606087533, 2.055098866918463, 2.0828704732281715, 2.1106420795378806, 2.1384136858475893, 2.1661852921572984, 2.1939568984670075, 2.221728504776716, 2.2495001110864252, 2.2772717173961343, 2.305043323705843, 2.3328149300155525, 2.360586536325261, 2.38835814263497, 2.4161297489446794, 2.443901355254388, 2.4716729615640967, 2.4994445678738058, 2.527216174183515, 2.554987780493224, 2.5827593868029326, 2.6105309931126417, 2.638302599422351, 2.6660742057320594, 2.6938458120417685, 2.7216174183514776, 2.7493890246611863, 2.7771606309708954, 2.8049322372806045, 2.832703843590313, 2.8604754499000222, 2.8882470562097313, 2.91601866251944, 2.943790268829149, 2.971561875138858, 2.9993334814485673]\n"
     ]
    }
   ],
   "source": [
    "print freqs"
   ]
  },
  {
   "cell_type": "code",
   "execution_count": null,
   "metadata": {
    "collapsed": true
   },
   "outputs": [],
   "source": []
  }
 ],
 "metadata": {
  "kernelspec": {
   "display_name": "Python 2",
   "language": "python",
   "name": "python2"
  },
  "language_info": {
   "codemirror_mode": {
    "name": "ipython",
    "version": 2
   },
   "file_extension": ".py",
   "mimetype": "text/x-python",
   "name": "python",
   "nbconvert_exporter": "python",
   "pygments_lexer": "ipython2",
   "version": "2.7.2"
  }
 },
 "nbformat": 4,
 "nbformat_minor": 0
}
