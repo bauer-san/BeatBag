{
 "cells": [
  {
   "cell_type": "markdown",
   "metadata": {},
   "source": [
    "# BeatBag\n",
    "This is an entry in the SparkFun Crowdsourcing Algorithms Contest: https://www.sparkfun.com/news/2115"
   ]
  },
  {
   "cell_type": "code",
   "execution_count": 1,
   "metadata": {
    "collapsed": true
   },
   "outputs": [],
   "source": [
    "import numpy as np\n",
    "import csv\n",
    "import math\n",
    "\n",
    "from IPython import display\n",
    "import time\n",
    "\n",
    "import matplotlib.pyplot as plt\n",
    "%matplotlib inline  "
   ]
  },
  {
   "cell_type": "code",
   "execution_count": 2,
   "metadata": {
    "collapsed": false
   },
   "outputs": [],
   "source": [
    "def lpf(alpha, x, y_old):\n",
    "    return (y_old + alpha * (x - y_old))\n",
    "\n",
    "def hpf(alpha, x, x_old, y_old):\n",
    "    return (alpha * (y_old + x - x_old))\n",
    "\n",
    "def vector_mag(x, y, z):\n",
    "    return (np.sqrt(x**2 + y**2 + z**2))\n",
    "\n",
    "def goertzel(samples, sample_rate, *freqs):\n",
    "    \"\"\"\n",
    "    Lifted from this guy: https://gist.github.com/sebpiq/4128537\n",
    "    \n",
    "    Implementation of the Goertzel algorithm, useful for calculating individual\n",
    "    terms of a discrete Fourier transform.\n",
    "    `samples` is a windowed one-dimensional signal originally sampled at `sample_rate`.\n",
    "    The function returns 2 arrays, one containing the actual frequencies calculated,\n",
    "    the second the coefficients `(real part, imag part, power)` for each of those frequencies.\n",
    "    For simple spectral analysis, the power is usually enough.\n",
    "    Example of usage :\n",
    "        \n",
    "        freqs, results = goertzel(some_samples, 44100, (400, 500), (1000, 1100))\n",
    "    \"\"\"\n",
    "    window_size = len(samples)\n",
    "    f_step = sample_rate / float(window_size)\n",
    "    f_step_normalized = 1.0 / window_size\n",
    "\n",
    "    # Calculate all the DFT bins we have to compute to include frequencies\n",
    "    # in `freqs`.\n",
    "    bins = set()\n",
    "    for f_range in freqs:\n",
    "        f_start, f_end = f_range\n",
    "        k_start = int(math.floor(f_start / f_step))\n",
    "        k_end = int(math.ceil(f_end / f_step))\n",
    "\n",
    "        if k_end > window_size - 1: raise ValueError('frequency out of range %s' % k_end)\n",
    "        bins = bins.union(range(k_start, k_end))\n",
    "\n",
    "    # For all the bins, calculate the DFT term\n",
    "    n_range = range(0, window_size)\n",
    "    freqs = []\n",
    "    results = []\n",
    "    for k in bins:\n",
    "\n",
    "        # Bin frequency and coefficients for the computation\n",
    "        f = k * f_step_normalized\n",
    "        w_real = 2.0 * math.cos(2.0 * math.pi * f)\n",
    "        w_imag = math.sin(2.0 * math.pi * f)\n",
    "\n",
    "        # Doing the calculation on the whole sample\n",
    "        d1, d2 = 0.0, 0.0\n",
    "        for n in n_range:\n",
    "            y  = samples[n] + w_real * d1 - d2\n",
    "            d2, d1 = d1, y\n",
    "\n",
    "        # Storing results `(real part, imag part, power)`\n",
    "        results.append((\n",
    "            0.5 * w_real * d1 - d2, w_imag * d1,\n",
    "            d2**2 + d1**2 - w_real * d1 * d2)\n",
    "        )\n",
    "        freqs.append(f * sample_rate)\n",
    "    return freqs, results"
   ]
  },
  {
   "cell_type": "markdown",
   "metadata": {},
   "source": [
    "## Locate the data"
   ]
  },
  {
   "cell_type": "code",
   "execution_count": 3,
   "metadata": {
    "collapsed": false
   },
   "outputs": [],
   "source": [
    "data_path = '.\\\\data\\\\Recorded Tests\\\\'\n",
    "#data_path +=  '3-77hits.TXT'\n",
    "data_path +=  '4-81hits.TXT'\n",
    "#data_path +=  '5-93hits.TXT'\n",
    "#data_path +=  '6-79hits.TXT'\n",
    "#data_path +=  'MysteryDataSet-1.TXT'\n",
    "#data_path +=  'MysteryDataSet-2.TXT'"
   ]
  },
  {
   "cell_type": "markdown",
   "metadata": {},
   "source": [
    "## Initialize variables"
   ]
  },
  {
   "cell_type": "code",
   "execution_count": 4,
   "metadata": {
    "collapsed": false
   },
   "outputs": [],
   "source": [
    "sampletime = 0.002\n",
    "timeconstant_lpf = 0.2\n",
    "alpha_lpf = (float)(sampletime / (sampletime+timeconstant_lpf))\n",
    "\n",
    "timeconstant_hpf = 0.8\n",
    "alpha_hpf = (float)(sampletime / (sampletime+timeconstant_hpf))\n",
    "\n",
    "x=0.0\n",
    "y=0.0\n",
    "z=0.0\n",
    "\n",
    "x_lpf=0.0\n",
    "y_lpf=0.0\n",
    "z_lpf=0.0\n",
    "\n",
    "x_lpf_old=0.0\n",
    "y_lpf_old=0.0\n",
    "z_lpf_old=0.0\n",
    "\n",
    "x_hpf=0.0\n",
    "y_hpf=0.0\n",
    "z_hpf=0.0\n",
    "\n",
    "x_hpf_old=0.0\n",
    "y_hpf_old=0.0\n",
    "z_hpf_old=0.0"
   ]
  },
  {
   "cell_type": "markdown",
   "metadata": {},
   "source": [
    "## Proof of Concept - Process entire file in batch mode"
   ]
  },
  {
   "cell_type": "code",
   "execution_count": 11,
   "metadata": {
    "collapsed": false
   },
   "outputs": [
    {
     "data": {
      "image/png": "[encoded data removed]",
      "text/plain": [
       "<matplotlib.figure.Figure at 0x57432b0>"
      ]
     },
     "metadata": {},
     "output_type": "display_data"
    }
   ],
   "source": [
    "vec_accel=0.0\n",
    "\n",
    "fig, ax = plt.subplots()\n",
    "\n",
    "with open(data_path, 'rb') as csvfile:\n",
    "    reader = csv.reader(csvfile, delimiter=',')\n",
    "    for row in reader:\n",
    "        try:           \n",
    "            timestamp_ms, x, y, z = row\n",
    "        except ValueError:\n",
    "            pass\n",
    "        \n",
    "        x=float(x)\n",
    "        y=float(y)\n",
    "        z=float(z)\n",
    "\n",
    "        #Signal Processing\n",
    "        #for now, this is lowpass followed by high pass filters.\n",
    "        #later, time dependent filter vaules\n",
    "        x_lpf = lpf(alpha_lpf, x, x_lpf)\n",
    "        x_hpf = hpf(alpha_hpf, x_lpf, x_lpf_old, x_hpf_old)\n",
    "        x_lpf_old = x_lpf\n",
    "        x_hpf_old = x_hpf\n",
    "        \n",
    "        y_lpf = lpf(alpha_lpf, y, y_lpf)\n",
    "        y_hpf = hpf(alpha_hpf, y_lpf, y_lpf_old, y_hpf_old)\n",
    "        y_lpf_old = y_lpf\n",
    "        y_hpf_old = y_hpf\n",
    "\n",
    "        z_lpf = lpf(alpha_lpf, z, z_lpf)\n",
    "        z_hpf = hpf(alpha_hpf, z_lpf, z_lpf_old, z_hpf_old)\n",
    "        z_lpf_old = z_lpf\n",
    "        z_hpf_old = z_hpf        \n",
    "                \n",
    "        #calculate a vector in plane of the bag platform\n",
    "#        c = vector_mag(x_hpf, y_hpf, z_hpf)\n",
    "        c = vector_mag(x, y, z)        \n",
    "        \n",
    "        vec_accel = np.append(vec_accel, c)\n",
    "\n",
    "freqs, results = goertzel(vec_accel, 1/sampletime, (1, 5))\n",
    "ax.plot(freqs, np.array(results)[:,2], '.')\n",
    "display.clear_output(wait=True)"
   ]
  },
  {
   "cell_type": "markdown",
   "metadata": {},
   "source": [
    "## Pseudo-realtime"
   ]
  },
  {
   "cell_type": "code",
   "execution_count": 17,
   "metadata": {
    "collapsed": false
   },
   "outputs": [
    {
     "data": {
      "image/png": "[encoded data removed]",
      "text/plain": [
       "<matplotlib.figure.Figure at 0x5702b10>"
      ]
     },
     "metadata": {},
     "output_type": "display_data"
    },
    {
     "name": "stdout",
     "output_type": "stream",
     "text": [
      "24 24\n"
     ]
    },
    {
     "data": {
      "image/png": "[encoded data removed]",
      "text/plain": [
       "<matplotlib.figure.Figure at 0x5702b10>"
      ]
     },
     "metadata": {},
     "output_type": "display_data"
    }
   ],
   "source": [
    "i=0\n",
    "count=0\n",
    "hitcount = 0\n",
    "ARRAYSIZE = 700\n",
    "myvec_z=np.zeros(ARRAYSIZE)\n",
    "#myvec_c=np.zeros(ARRAYSIZE)\n",
    "#x=0.0\n",
    "#y=0.0\n",
    "z=0.0\n",
    "\n",
    "fig, ax = plt.subplots()\n",
    "\n",
    "with open(data_path, 'rb') as csvfile:\n",
    "    reader = csv.reader(csvfile, delimiter=',')\n",
    "    for row in reader:\n",
    "        try:           \n",
    "            timestamp_ms, x, y, z = row\n",
    "        except ValueError:\n",
    "            pass\n",
    "        \n",
    "        #x=float(x)\n",
    "        #y=float(y)\n",
    "        z=float(z)+500.0\n",
    "\n",
    "        #Signal Processing\n",
    "        #for now, this is lowpass followed by high pass filters.\n",
    "        #later, time dependent filter vaules\n",
    "        #x_lpf = lpf(alpha_lpf, x, x_lpf)\n",
    "        #x_hpf = hpf(alpha_hpf, x_lpf, x_lpf_old, x_hpf_old)\n",
    "        #x_lpf_old = x_lpf\n",
    "        #x_hpf_old = x_hpf\n",
    "        \n",
    "        #y_lpf = lpf(alpha_lpf, y, y_lpf)\n",
    "        #y_hpf = hpf(alpha_hpf, y_lpf, y_lpf_old, y_hpf_old)\n",
    "        #y_lpf_old = y_lpf\n",
    "        #y_hpf_old = y_hpf\n",
    "\n",
    "        z_lpf = lpf(alpha_lpf, z, z_lpf)\n",
    "        z_hpf = hpf(alpha_hpf, z_lpf, z_lpf_old, z_hpf_old)\n",
    "        z_lpf_old = z_lpf\n",
    "        z_hpf_old = z_hpf        \n",
    "                \n",
    "        #calculate a vector in plane of the bag platform\n",
    "        #c = vector_mag(x_hpf, y_hpf)   \n",
    "\n",
    "        #trying to do fifo/circular buffer\n",
    "        myvec_z=np.roll(myvec_z, -1)\n",
    "        myvec_z=np.delete(myvec_z, ARRAYSIZE-1)\n",
    "        myvec_z=np.append(myvec_z,float(min(z_hpf,0)))\n",
    "#        myvec_z=np.append(myvec_z,float(min(z,0)))\n",
    "#        myvec_z=np.append(myvec_z, z)\n",
    "\n",
    "        if (1):\n",
    "            i+=1\n",
    "            if (i==ARRAYSIZE): #when buffer full, ship to processing\n",
    "                count+=1\n",
    "#            plt.plot(myvec_z)\n",
    "                freqs, results = goertzel(myvec_z, 1/sampletime, (1, 5))\n",
    "\n",
    "                bb = np.array(results)[2,2]\n",
    "                if bb>0:\n",
    "                    hitcount+=1\n",
    "                \n",
    "                #reset buffer, counter\n",
    "                myvec_z=np.zeros(ARRAYSIZE)\n",
    "                i=0\n",
    "            \n",
    "                #live update\n",
    "                ax.plot(freqs, np.array(results)[:,2], '.')\n",
    "                display.clear_output(wait=True)\n",
    "                display.display(plt.gcf())\n",
    "        \n",
    "print count, hitcount"
   ]
  },
  {
   "cell_type": "code",
   "execution_count": null,
   "metadata": {
    "collapsed": false
   },
   "outputs": [],
   "source": [
    "print freqs, results"
   ]
  },
  {
   "cell_type": "code",
   "execution_count": 15,
   "metadata": {
    "collapsed": false
   },
   "outputs": [
    {
     "data": {
      "text/plain": [
       "[<matplotlib.lines.Line2D at 0x5998950>]"
      ]
     },
     "execution_count": 15,
     "metadata": {},
     "output_type": "execute_result"
    },
    {
     "data": {
      "image/png": "[encoded data removed]",
      "text/plain": [
       "<matplotlib.figure.Figure at 0x59a8410>"
      ]
     },
     "metadata": {},
     "output_type": "display_data"
    }
   ],
   "source": [
    "plt.plot(myvec_z)"
   ]
  },
  {
   "cell_type": "code",
   "execution_count": null,
   "metadata": {
    "collapsed": true
   },
   "outputs": [],
   "source": []
  }
 ],
 "metadata": {
  "kernelspec": {
   "display_name": "Python 2",
   "language": "python",
   "name": "python2"
  },
  "language_info": {
   "codemirror_mode": {
    "name": "ipython",
    "version": 2
   },
   "file_extension": ".py",
   "mimetype": "text/x-python",
   "name": "python",
   "nbconvert_exporter": "python",
   "pygments_lexer": "ipython2",
   "version": "2.7.2"
  }
 },
 "nbformat": 4,
 "nbformat_minor": 0
}
